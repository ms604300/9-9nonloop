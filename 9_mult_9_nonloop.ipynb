{
 "cells": [
  {
   "cell_type": "code",
   "execution_count": 20,
   "metadata": {},
   "outputs": [
    {
     "name": "stdout",
     "output_type": "stream",
     "text": [
      "5 * 3 = 15 4 * 3 = 12 3 * 3 = 9 2 * 3 = 6 1 * 3 = 3 \n",
      "\n",
      "5 * 2 = 10 4 * 2 = 8 3 * 2 = 6 2 * 2 = 4 1 * 2 = 2 \n",
      "\n",
      "5 * 1 = 5 4 * 1 = 4 3 * 1 = 3 2 * 1 = 2 1 * 1 = 1 \n",
      "\n"
     ]
    }
   ],
   "source": [
    "#阿右寫法\n",
    "def main():\n",
    "    createMulTable(5,3)\n",
    "\n",
    "def createMulTable(row,column):\n",
    "    valuelist = calculateMulValue(row,column)\n",
    "    printLine(row,column,valuelist)\n",
    "    print('\\n')\n",
    "\n",
    "def printLine(row,column,valuelist):\n",
    "    printItem(row,column,valuelist) \n",
    "    if (column-1 != 0):\n",
    "        print('\\n') \n",
    "        printLine(row,column-1,valuelist)\n",
    "\n",
    "def printItem(row,column,valuelist):\n",
    "    if (str(row)+str(column)) in valuelist:\n",
    "        print(row,'*',column,'=',valuelist[str(row)+str(column)],end=' ')\n",
    "        if (row-1 != 0):\n",
    "            printItem(row-1,column,valuelist)\n",
    "    else:\n",
    "        print(row,'*',column,'=',valuelist[str(column)+str(row)],end=' ')\n",
    "        if (row-1 != 0):\n",
    "            printItem(row-1,column,valuelist)\n",
    "\n",
    "def calculateMulValue(row,column):\n",
    "    valuelist = {}\n",
    "    mul(row,column,valuelist)\n",
    "    return valuelist\n",
    "\n",
    "def mul(row,column,valuelist):\n",
    "    if row > 1 and column > 1:\n",
    "        if (str(column)+str(row)) not in valuelist:\n",
    "            if (str(row)+str(column)) not in valuelist:\n",
    "                valuelist[str(row)+str(column)] = row * column\n",
    "                mul(row-1,column,valuelist)\n",
    "                mul(row,column-1,valuelist)\n",
    "                mul(1,1,valuelist)\n",
    "    elif row == 1:\n",
    "        if (str(row)+str(column)) not in valuelist:\n",
    "            if (str(column)+str(row)) not in valuelist:\n",
    "                valuelist[str(row)+str(column)] = column\n",
    "    elif column == 1:\n",
    "        if (str(column)+str(row)) not in valuelist:\n",
    "            if (str(row)+str(column)) not in valuelist:\n",
    "                valuelist[str(row)+str(column)] = row\n",
    "    \n",
    "if __name__ == '__main__':\n",
    "    main()"
   ]
  },
  {
   "cell_type": "code",
   "execution_count": 2,
   "metadata": {},
   "outputs": [
    {
     "name": "stdout",
     "output_type": "stream",
     "text": [
      "5 * 3 =  15    4 * 3 =  12    3 * 3 =   9    2 * 3 =   6    1 * 3 =   3    \n",
      "5 * 2 =  10    4 * 2 =   8    3 * 2 =   6    2 * 2 =   4    1 * 2 =   2    \n",
      "5 * 1 =   5    4 * 1 =   4    3 * 1 =   3    2 * 1 =   2    1 * 1 =   1    \n"
     ]
    }
   ],
   "source": [
    "#我的寫法\n",
    "def loop(x,i):\n",
    "    if x>0:\n",
    "        if i>0:\n",
    "            print(x,\"*\",i,\"=\",\"%3d\"%(x*i),end='    ')#\"%3d\"要求表示的資料佔有三格位置\n",
    "            x=x-1\n",
    "            if x==0:                 #表示一階遞迴已完成，強制將被乘數(i)-1，並還原x值，丟回loop副程式中續跑\n",
    "                print()              #強制換行，排版用\n",
    "                return loop(col,i-1) #回傳x初始設定值(col行數)與i-1(row列數-1)\n",
    "            return loop(x,i)\n",
    "row=input('row=')  #輸入row列值\n",
    "col=input('col=')  #輸入col行值\n",
    "row=int(row)       #輸入的row資料為字串，無法比較大小，故強制轉態為int\n",
    "col=int(col)       #輸入的col資料為字串，無法比較大小，故強制轉態為int\n",
    "loop(col,row)      #loop(列數x值,行數i值)\n",
    "input()            #用來將若單獨點選檔案能停留在畫面\n",
    "#最後行input()，會讓上面9*9完成後不會直接關閉檔案\n",
    "#會保留9*9乘法表的結果，並等待輸入的動作"
   ]
  },
  {
   "cell_type": "code",
   "execution_count": null,
   "metadata": {},
   "outputs": [],
   "source": []
  }
 ],
 "metadata": {
  "kernelspec": {
   "display_name": "Python 3",
   "language": "python",
   "name": "python3"
  },
  "language_info": {
   "codemirror_mode": {
    "name": "ipython",
    "version": 3
   },
   "file_extension": ".py",
   "mimetype": "text/x-python",
   "name": "python",
   "nbconvert_exporter": "python",
   "pygments_lexer": "ipython3",
   "version": "3.6.5"
  }
 },
 "nbformat": 4,
 "nbformat_minor": 2
}
